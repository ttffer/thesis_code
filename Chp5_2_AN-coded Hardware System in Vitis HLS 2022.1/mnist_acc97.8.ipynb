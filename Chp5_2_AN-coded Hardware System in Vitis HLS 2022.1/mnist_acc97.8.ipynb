{
 "cells": [
  {
   "cell_type": "code",
   "execution_count": 2,
   "metadata": {},
   "outputs": [],
   "source": [
    "import torch\n",
    "from torch import nn\n",
    "from torch.utils.data import DataLoader\n",
    "from torchvision import datasets\n",
    "from torchvision.transforms import ToTensor\n",
    "import numpy as np\n",
    "from sklearn.model_selection import train_test_split\n",
    "%matplotlib inline"
   ]
  },
  {
   "cell_type": "code",
   "execution_count": 3,
   "metadata": {},
   "outputs": [],
   "source": [
    "# Download training data from open datasets.\n",
    "training_data = datasets.MNIST(\n",
    "    root=\"data\",\n",
    "    train=True,\n",
    "    download=True,\n",
    "    transform=ToTensor(),\n",
    ")\n",
    "\n",
    "# Download test data from open datasets.\n",
    "test_data = datasets.MNIST(\n",
    "    root=\"data\",\n",
    "    train=False,\n",
    "    download=True,\n",
    "    transform=ToTensor(),\n",
    ")"
   ]
  },
  {
   "cell_type": "code",
   "execution_count": 4,
   "metadata": {},
   "outputs": [
    {
     "name": "stdout",
     "output_type": "stream",
     "text": [
      "Shape of X [N, C, H, W]: torch.Size([64, 1, 28, 28])\n",
      "Shape of y: torch.Size([64]) torch.int64\n"
     ]
    }
   ],
   "source": [
    "batch_size = 64\n",
    "\n",
    "# Create data loaders.\n",
    "train_dataloader = DataLoader(training_data, batch_size=batch_size)\n",
    "test_dataloader = DataLoader(test_data, batch_size=batch_size)\n",
    "\n",
    "for X, y in test_dataloader:\n",
    "    print(f\"Shape of X [N, C, H, W]: {X.shape}\")\n",
    "    print(f\"Shape of y: {y.shape} {y.dtype}\")\n",
    "    break"
   ]
  },
  {
   "cell_type": "markdown",
   "metadata": {},
   "source": [
    "## define network\n"
   ]
  },
  {
   "cell_type": "code",
   "execution_count": 106,
   "metadata": {},
   "outputs": [
    {
     "name": "stdout",
     "output_type": "stream",
     "text": [
      "Using cuda device\n",
      "NeuralNetwork(\n",
      "  (flatten): Flatten(start_dim=1, end_dim=-1)\n",
      "  (linear_relu_stack): Sequential(\n",
      "    (0): Linear(in_features=784, out_features=64, bias=True)\n",
      "    (1): ReLU(inplace=True)\n",
      "    (2): Linear(in_features=64, out_features=32, bias=True)\n",
      "    (3): ReLU(inplace=True)\n",
      "    (4): Linear(in_features=32, out_features=10, bias=True)\n",
      "  )\n",
      ")\n"
     ]
    }
   ],
   "source": [
    "# Get cpu or gpu device for training.\n",
    "device = \"cuda\" if torch.cuda.is_available() else \"cpu\"\n",
    "print(f\"Using {device} device\")\n",
    "\n",
    "# Define model\n",
    "class NeuralNetwork(nn.Module):\n",
    "    def __init__(self):\n",
    "        super(NeuralNetwork, self).__init__()\n",
    "        self.flatten = nn.Flatten()\n",
    "        self.linear_relu_stack = nn.Sequential(\n",
    "            nn.Linear(28*28, 64),\n",
    "            nn.ReLU(inplace=True),\n",
    "            nn.Linear(64,32),\n",
    "            nn.ReLU(inplace=True),\n",
    "            nn.Linear(32, 10),\n",
    "        )\n",
    "\n",
    "    def forward(self, x):\n",
    "        x = self.flatten(x)\n",
    "        logits = self.linear_relu_stack(x)\n",
    "        return logits\n",
    "\n",
    "model = NeuralNetwork().to(device)\n",
    "print(model)"
   ]
  },
  {
   "cell_type": "code",
   "execution_count": 107,
   "metadata": {},
   "outputs": [],
   "source": [
    "loss_fn = nn.CrossEntropyLoss()\n",
    "\n",
    "# optimizer = torch.optim.SGD(model.parameters(), lr=1e-3)\n",
    "optimizer = torch.optim.Adam(model.parameters(),lr=1e-3)"
   ]
  },
  {
   "cell_type": "code",
   "execution_count": 108,
   "metadata": {},
   "outputs": [],
   "source": [
    "def train(dataloader, model, loss_fn, optimizer):\n",
    "    size = len(dataloader.dataset)\n",
    "    model.train()\n",
    "    for batch, (X, y) in enumerate(dataloader):\n",
    "        X, y = X.to(device), y.to(device)\n",
    "\n",
    "        # Compute prediction error\n",
    "        pred = model(X)\n",
    "        loss = loss_fn(pred, y)\n",
    "\n",
    "        # Backpropagation\n",
    "        optimizer.zero_grad()\n",
    "        loss.backward()\n",
    "        optimizer.step()\n",
    "\n",
    "        if batch % 100 == 0:\n",
    "            loss, current = loss.item(), batch * len(X)\n",
    "            print(f\"loss: {loss:>7f}  [{current:>5d}/{size:>5d}]\")\n",
    "\n",
    "def test(dataloader, model, loss_fn):\n",
    "    size = len(dataloader.dataset)\n",
    "    num_batches = len(dataloader)\n",
    "    model.eval()\n",
    "    test_loss, correct = 0, 0\n",
    "    with torch.no_grad():\n",
    "        for X, y in dataloader:\n",
    "            X, y = X.to(device), y.to(device)\n",
    "            pred = model(X)\n",
    "            test_loss += loss_fn(pred, y).item()\n",
    "            correct += (pred.argmax(1) == y).type(torch.float).sum().item()\n",
    "    test_loss /= num_batches\n",
    "    correct /= size\n",
    "    print(f\"Test Error: \\n Accuracy: {(100*correct):>0.1f}%, Avg loss: {test_loss:>8f} \\n\")"
   ]
  },
  {
   "cell_type": "code",
   "execution_count": 109,
   "metadata": {},
   "outputs": [
    {
     "name": "stdout",
     "output_type": "stream",
     "text": [
      "Epoch 1\n",
      "-------------------------------\n",
      "loss: 2.308667  [    0/60000]\n",
      "loss: 0.559440  [ 6400/60000]\n",
      "loss: 0.364937  [12800/60000]\n",
      "loss: 0.356125  [19200/60000]\n",
      "loss: 0.264652  [25600/60000]\n",
      "loss: 0.363730  [32000/60000]\n",
      "loss: 0.195791  [38400/60000]\n",
      "loss: 0.368445  [44800/60000]\n",
      "loss: 0.351554  [51200/60000]\n",
      "loss: 0.338255  [57600/60000]\n",
      "Test Error: \n",
      " Accuracy: 93.1%, Avg loss: 0.228729 \n",
      "\n",
      "Epoch 2\n",
      "-------------------------------\n",
      "loss: 0.156071  [    0/60000]\n",
      "loss: 0.225682  [ 6400/60000]\n",
      "loss: 0.116495  [12800/60000]\n",
      "loss: 0.307438  [19200/60000]\n",
      "loss: 0.177098  [25600/60000]\n",
      "loss: 0.323541  [32000/60000]\n",
      "loss: 0.099816  [38400/60000]\n",
      "loss: 0.271824  [44800/60000]\n",
      "loss: 0.220665  [51200/60000]\n",
      "loss: 0.261181  [57600/60000]\n",
      "Test Error: \n",
      " Accuracy: 95.3%, Avg loss: 0.158525 \n",
      "\n",
      "Epoch 3\n",
      "-------------------------------\n",
      "loss: 0.098936  [    0/60000]\n",
      "loss: 0.162150  [ 6400/60000]\n",
      "loss: 0.092269  [12800/60000]\n",
      "loss: 0.259521  [19200/60000]\n",
      "loss: 0.123687  [25600/60000]\n",
      "loss: 0.265576  [32000/60000]\n",
      "loss: 0.069614  [38400/60000]\n",
      "loss: 0.211206  [44800/60000]\n",
      "loss: 0.175470  [51200/60000]\n",
      "loss: 0.242495  [57600/60000]\n",
      "Test Error: \n",
      " Accuracy: 96.0%, Avg loss: 0.129357 \n",
      "\n",
      "Epoch 4\n",
      "-------------------------------\n",
      "loss: 0.081428  [    0/60000]\n",
      "loss: 0.125173  [ 6400/60000]\n",
      "loss: 0.078329  [12800/60000]\n",
      "loss: 0.196306  [19200/60000]\n",
      "loss: 0.103301  [25600/60000]\n",
      "loss: 0.200269  [32000/60000]\n",
      "loss: 0.058450  [38400/60000]\n",
      "loss: 0.160001  [44800/60000]\n",
      "loss: 0.147308  [51200/60000]\n",
      "loss: 0.220880  [57600/60000]\n",
      "Test Error: \n",
      " Accuracy: 96.4%, Avg loss: 0.116322 \n",
      "\n",
      "Epoch 5\n",
      "-------------------------------\n",
      "loss: 0.075317  [    0/60000]\n",
      "loss: 0.096094  [ 6400/60000]\n",
      "loss: 0.071255  [12800/60000]\n",
      "loss: 0.163792  [19200/60000]\n",
      "loss: 0.064326  [25600/60000]\n",
      "loss: 0.158254  [32000/60000]\n",
      "loss: 0.053219  [38400/60000]\n",
      "loss: 0.118206  [44800/60000]\n",
      "loss: 0.141958  [51200/60000]\n",
      "loss: 0.189423  [57600/60000]\n",
      "Test Error: \n",
      " Accuracy: 96.6%, Avg loss: 0.108876 \n",
      "\n",
      "Epoch 6\n",
      "-------------------------------\n",
      "loss: 0.075589  [    0/60000]\n",
      "loss: 0.074626  [ 6400/60000]\n",
      "loss: 0.070771  [12800/60000]\n",
      "loss: 0.129679  [19200/60000]\n",
      "loss: 0.050554  [25600/60000]\n",
      "loss: 0.121214  [32000/60000]\n",
      "loss: 0.052598  [38400/60000]\n",
      "loss: 0.091758  [44800/60000]\n",
      "loss: 0.130966  [51200/60000]\n",
      "loss: 0.159538  [57600/60000]\n",
      "Test Error: \n",
      " Accuracy: 96.6%, Avg loss: 0.109197 \n",
      "\n",
      "Epoch 7\n",
      "-------------------------------\n",
      "loss: 0.064095  [    0/60000]\n",
      "loss: 0.050364  [ 6400/60000]\n",
      "loss: 0.069140  [12800/60000]\n",
      "loss: 0.091822  [19200/60000]\n",
      "loss: 0.046126  [25600/60000]\n",
      "loss: 0.096481  [32000/60000]\n",
      "loss: 0.047803  [38400/60000]\n",
      "loss: 0.076742  [44800/60000]\n",
      "loss: 0.125442  [51200/60000]\n",
      "loss: 0.124256  [57600/60000]\n",
      "Test Error: \n",
      " Accuracy: 96.9%, Avg loss: 0.102890 \n",
      "\n",
      "Epoch 8\n",
      "-------------------------------\n",
      "loss: 0.059654  [    0/60000]\n",
      "loss: 0.041949  [ 6400/60000]\n",
      "loss: 0.063247  [12800/60000]\n",
      "loss: 0.074698  [19200/60000]\n",
      "loss: 0.029405  [25600/60000]\n",
      "loss: 0.074884  [32000/60000]\n",
      "loss: 0.045505  [38400/60000]\n",
      "loss: 0.063936  [44800/60000]\n",
      "loss: 0.120413  [51200/60000]\n",
      "loss: 0.094367  [57600/60000]\n",
      "Test Error: \n",
      " Accuracy: 96.8%, Avg loss: 0.105107 \n",
      "\n",
      "Epoch 9\n",
      "-------------------------------\n",
      "loss: 0.045024  [    0/60000]\n",
      "loss: 0.032139  [ 6400/60000]\n",
      "loss: 0.063692  [12800/60000]\n",
      "loss: 0.067887  [19200/60000]\n",
      "loss: 0.022984  [25600/60000]\n",
      "loss: 0.054978  [32000/60000]\n",
      "loss: 0.044776  [38400/60000]\n",
      "loss: 0.046582  [44800/60000]\n",
      "loss: 0.110202  [51200/60000]\n",
      "loss: 0.067083  [57600/60000]\n",
      "Test Error: \n",
      " Accuracy: 96.8%, Avg loss: 0.107603 \n",
      "\n",
      "Epoch 10\n",
      "-------------------------------\n",
      "loss: 0.037705  [    0/60000]\n",
      "loss: 0.023043  [ 6400/60000]\n",
      "loss: 0.060546  [12800/60000]\n",
      "loss: 0.051820  [19200/60000]\n",
      "loss: 0.027578  [25600/60000]\n",
      "loss: 0.045804  [32000/60000]\n",
      "loss: 0.052015  [38400/60000]\n",
      "loss: 0.031483  [44800/60000]\n",
      "loss: 0.098159  [51200/60000]\n",
      "loss: 0.042314  [57600/60000]\n",
      "Test Error: \n",
      " Accuracy: 96.9%, Avg loss: 0.108489 \n",
      "\n",
      "Done!\n"
     ]
    }
   ],
   "source": [
    "epochs = 10\n",
    "for t in range(epochs):\n",
    "    print(f\"Epoch {t+1}\\n-------------------------------\")\n",
    "    train(train_dataloader, model, loss_fn, optimizer)\n",
    "    test(test_dataloader, model, loss_fn)\n",
    "print(\"Done!\")"
   ]
  },
  {
   "cell_type": "markdown",
   "metadata": {},
   "source": [
    "## save model\n"
   ]
  },
  {
   "cell_type": "code",
   "execution_count": 110,
   "metadata": {},
   "outputs": [],
   "source": [
    "torch.save(model.state_dict(), \"model.pth\")"
   ]
  },
  {
   "cell_type": "markdown",
   "metadata": {},
   "source": [
    "## load model\n"
   ]
  },
  {
   "cell_type": "code",
   "execution_count": 5,
   "metadata": {},
   "outputs": [],
   "source": [
    "model = torch.load( \"model.pth\")"
   ]
  },
  {
   "cell_type": "code",
   "execution_count": 6,
   "metadata": {},
   "outputs": [],
   "source": [
    "lrsw0=model[\"linear_relu_stack.0.weight\"]\n",
    "lrsb0=model[\"linear_relu_stack.0.bias\"]\n",
    "lrsw2=model[\"linear_relu_stack.2.weight\"]\n",
    "lrsb2=model[\"linear_relu_stack.2.bias\"]\n",
    "lrsw4=model[\"linear_relu_stack.4.weight\"]\n",
    "lrsb4=model[\"linear_relu_stack.4.bias\"]"
   ]
  },
  {
   "cell_type": "code",
   "execution_count": 7,
   "metadata": {},
   "outputs": [
    {
     "name": "stdout",
     "output_type": "stream",
     "text": [
      "torch.Size([50176])\n",
      "torch.Size([64])\n",
      "torch.Size([2048])\n",
      "torch.Size([32])\n",
      "torch.Size([320])\n"
     ]
    }
   ],
   "source": [
    "lrsw0=lrsw0.reshape(-1)\n",
    "lrsb0=lrsb0.reshape(-1)\n",
    "lrsw2=lrsw2.reshape(-1)\n",
    "lrsb2=lrsb2.reshape(-1)\n",
    "\n",
    "lrsw4=lrsw4.reshape(-1)\n",
    "\n",
    "\n",
    "print(lrsw0.shape)\n",
    "print(lrsb0.shape)\n",
    "print(lrsw2.shape)\n",
    "print(lrsb2.shape)\n",
    "\n",
    "print(lrsw4.shape)"
   ]
  },
  {
   "cell_type": "code",
   "execution_count": 8,
   "metadata": {},
   "outputs": [],
   "source": [
    "np_lrsw0=np.asarray(lrsw0.cpu())\n",
    "np_lrsb0=np.asarray(lrsb0.cpu())\n",
    "np_lrsw2=np.asarray(lrsw2.cpu())\n",
    "np_lrsb2=np.asarray(lrsb2.cpu())\n",
    "np_lrsw4=np.asarray(lrsw4.cpu())\n",
    "np_lrsb4=np.asarray(lrsb4.cpu())\n",
    "\n",
    "np.save(\"lrsw0\",np_lrsw0)\n",
    "np.save(\"lrsb0\",np_lrsb0)\n",
    "np.save(\"lrsw2\",np_lrsw2)\n",
    "np.save(\"lrsb2\",np_lrsb2)\n",
    "np.save(\"lrsw4\",np_lrsw4)\n",
    "np.save(\"lrsb4\",np_lrsb4)\n"
   ]
  },
  {
   "cell_type": "code",
   "execution_count": 9,
   "metadata": {},
   "outputs": [],
   "source": [
    "img_np=np.zeros((1000,784))\n",
    "lable_np=np.zeros(1000)\n",
    "for i in range(1000):\n",
    "    img,label=test_data[i]    \n",
    "    img_np[i]=np.asarray(img).reshape(-1)\n",
    "    lable_np[i]=label\n",
    "\n",
    "np.save(\"img\",img_np)\n",
    "np.save(\"label\",lable_np)"
   ]
  },
  {
   "cell_type": "code",
   "execution_count": 10,
   "metadata": {},
   "outputs": [],
   "source": [
    "lrsw0=lrsw0.reshape(-1)\n",
    "lrsb0=lrsb0.reshape(-1)\n",
    "lrsw2=lrsw2.reshape(-1)\n",
    "lrsb2=lrsb2.reshape(-1)\n",
    "lrsw4=lrsw4.reshape(-1)\n",
    "\n"
   ]
  },
  {
   "cell_type": "code",
   "execution_count": 11,
   "metadata": {},
   "outputs": [
    {
     "name": "stdout",
     "output_type": "stream",
     "text": [
      "torch.Size([50176])\n",
      "torch.Size([64])\n",
      "torch.Size([2048])\n",
      "torch.Size([32])\n",
      "torch.Size([320])\n"
     ]
    }
   ],
   "source": [
    "print(lrsw0.shape)\n",
    "print(lrsb0.shape)\n",
    "print(lrsw2.shape)\n",
    "print(lrsb2.shape)\n",
    "print(lrsw4.shape)"
   ]
  },
  {
   "cell_type": "code",
   "execution_count": 12,
   "metadata": {},
   "outputs": [],
   "source": [
    "np_lrsw0=np.asarray(lrsw0.cpu())\n",
    "np_lrsb0=np.asarray(lrsb0.cpu())\n",
    "np_lrsw2=np.asarray(lrsw2.cpu())\n",
    "np_lrsb2=np.asarray(lrsb2.cpu())\n",
    "np_lrsw4=np.asarray(lrsw4.cpu())\n",
    "np_lrsb4=np.asarray(lrsb4.cpu())\n"
   ]
  },
  {
   "cell_type": "code",
   "execution_count": 13,
   "metadata": {},
   "outputs": [],
   "source": [
    "lrsw0_len=lrsw0.size(dim=0)\n",
    "lrsb0_len=lrsb0.size(dim=0)\n",
    "lrsw2_len=lrsw2.size(dim=0)\n",
    "lrsb2_len=lrsb2.size(dim=0)\n",
    "lrsw4_len=lrsw4.size(dim=0)\n",
    "lrsb4_len=lrsb4.size(dim=0)"
   ]
  },
  {
   "cell_type": "markdown",
   "metadata": {},
   "source": [
    "# C++ program validation"
   ]
  },
  {
   "cell_type": "code",
   "execution_count": 14,
   "metadata": {},
   "outputs": [
    {
     "name": "stdout",
     "output_type": "stream",
     "text": [
      "[ -3.16065717  -7.64282131  -1.88874662   0.7816208  -10.37539387\n",
      "  -8.21591949 -16.52468491  13.17329597  -3.39338565  -3.45833802]\n",
      "[0.         0.         2.20556116 1.6693989  0.         1.25749528\n",
      " 0.         0.83755994 1.37699878 0.         1.73201311 0.30123317\n",
      " 2.56744552 2.18847084 4.4123888  0.         0.         3.07979155\n",
      " 4.31433964 0.         0.68415785 3.63678288 0.41284668 0.\n",
      " 1.01892638 0.         2.06896257 0.09673144 0.         1.53036249\n",
      " 2.41919732 2.99665618 0.         0.         1.21433258 0.\n",
      " 0.74359769 0.         0.         0.         0.55924273 0.\n",
      " 0.         0.10054541 2.06047034 0.         0.         0.\n",
      " 0.59952945 2.69664383 2.56162834 0.         2.6689043  2.90566063\n",
      " 0.         1.25290632 0.         0.         0.94321156 3.20101738\n",
      " 1.79623199 1.58700264 1.22447836 1.46508384]\n",
      "[ 7.62313128  4.88743114  0.07896322  4.44060612  0.          4.97876453\n",
      "  3.74316478  6.58791733  2.50065422  5.69034719  0.67534876  0.\n",
      "  3.24253464  0.36259326  2.63701248  0.          2.30909395  2.60553765\n",
      "  0.          0.93236428  0.          0.          0.          5.29074001\n",
      " 10.22368526  6.37968397  3.06637216  0.          0.          0.\n",
      "  3.09166527  0.        ]\n",
      "now: 0 hit: 1\n",
      "[ -7.63380766   2.22953439   9.36154461   3.18617511 -23.75971413\n",
      "   5.34553814  -4.8158927  -19.01091576  -4.60658169 -25.34398842]\n",
      "[0.         0.         0.         1.13211513 0.         6.67957306\n",
      " 0.         0.         0.         0.         0.         0.\n",
      " 0.         0.         1.85039282 0.         3.61422229 0.\n",
      " 0.         1.60660684 4.86278248 0.23424877 2.97424316 0.\n",
      " 0.         3.33646345 0.         1.09407437 1.82233047 2.31510806\n",
      " 5.77130032 0.04461566 0.         6.80598688 0.         2.18395281\n",
      " 6.1675086  0.         2.23456597 2.73165703 6.13937712 0.\n",
      " 3.14952421 0.02147488 0.         2.37283039 1.52027154 2.57161927\n",
      " 3.46145105 0.         0.         0.         0.         0.47316045\n",
      " 0.         0.         1.64819801 0.         4.10285282 0.\n",
      " 0.         2.46574044 2.05668378 2.63728285]\n",
      "[ 8.06890488  1.28215277  4.68661928  5.74642229  1.7885524   4.40756273\n",
      "  0.          0.          0.          3.21423125  6.63252831  0.\n",
      "  6.43822289  1.08648503  0.         13.05335426  1.03660548  0.\n",
      "  2.16799045  7.92610788  6.67187738  1.07257557  8.93530846  0.\n",
      "  2.22472501  7.04942656  1.65010285  3.48962545  0.          0.\n",
      " 13.89396858  8.46575832]\n",
      "now: 1 hit: 2\n",
      "2\n"
     ]
    }
   ],
   "source": [
    "hit=0\n",
    "for r in range(2):\n",
    "    img,label=test_data[r]\n",
    "    img=img.reshape(-1)\n",
    "    out1=np.zeros(lrsb0_len)\n",
    "    out2=np.zeros(lrsb2_len)\n",
    "    out3=np.zeros(lrsb4_len)\n",
    "    \n",
    "    for i in range(lrsb0_len):\n",
    "        for j in range(784):\n",
    "            out1[i]+=lrsw0[i*784+j]*img[j]\n",
    "        out1[i]+=lrsb0[i]\n",
    "    for i in range(lrsb0_len):\n",
    "        if(out1[i]<0):\n",
    "            out1[i]=0\n",
    "\n",
    "    for i in range(lrsb2_len):\n",
    "        for j in range(lrsb0_len):\n",
    "            out2[i]+=lrsw2[i*lrsb0_len+j]*out1[j]\n",
    "        out2[i]+=lrsb2[i]\n",
    "    for i in range(lrsb2_len):\n",
    "        if(out2[i]<0):\n",
    "            out2[i]=0\n",
    "\n",
    "    for i in range(lrsb4_len):\n",
    "        for j in range(lrsb2_len):\n",
    "            out3[i]+=lrsw4[i*lrsb2_len+j]*out2[j]\n",
    "        out3[i]+=lrsb4[i]\n",
    "    if(out3.argmax()==label):\n",
    "        hit+=1\n",
    "    print(out3)\n",
    "    print(out1)\n",
    "    print(out2)\n",
    "    print(\"now:\",r,\"hit:\",hit)\n",
    "print(hit)"
   ]
  }
 ],
 "metadata": {
  "kernelspec": {
   "display_name": "Python 3.8.10 64-bit",
   "language": "python",
   "name": "python3"
  },
  "language_info": {
   "codemirror_mode": {
    "name": "ipython",
    "version": 3
   },
   "file_extension": ".py",
   "mimetype": "text/x-python",
   "name": "python",
   "nbconvert_exporter": "python",
   "pygments_lexer": "ipython3",
   "version": "3.8.10"
  },
  "vscode": {
   "interpreter": {
    "hash": "916dbcbb3f70747c44a77c7bcd40155683ae19c65e1c03b4aa3499c5328201f1"
   }
  }
 },
 "nbformat": 4,
 "nbformat_minor": 4
}
