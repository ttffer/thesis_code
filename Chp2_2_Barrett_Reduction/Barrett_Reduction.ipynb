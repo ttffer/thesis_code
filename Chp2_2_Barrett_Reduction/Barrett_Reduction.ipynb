{
 "cells": [
  {
   "cell_type": "markdown",
   "metadata": {},
   "source": [
    "barrett \n",
    "目的:除以A\n",
    "1/A\n",
    "\n",
    "附加利益:TCB\n",
    "*A = +-X \n",
    "X 未知整數\n",
    "改成+-多少次 變成shift\n",
    "\n",
    "A找weight小的\n"
   ]
  },
  {
   "cell_type": "markdown",
   "metadata": {},
   "source": [
    "設 為了要定位<br />\n",
    "找A=29\n",
    "求1/A<br /><br />\n",
    "答:\n",
    "為將1/A化簡  <br />\n",
    "$\\frac{2^{10}}{A}$ = 35.31348 <br />\n",
    "$\\frac{1}{A}$= $\\frac{35.31348}{2^{10}} $ $\\Rightarrow$\n",
    "$\\frac{X}{A}$ =  $X\\times\\frac{35.31348}{2^{10}}$ <br />"
   ]
  },
  {
   "cell_type": "code",
   "execution_count": 1,
   "metadata": {},
   "outputs": [
    {
     "name": "stdout",
     "output_type": "stream",
     "text": [
      "100.011\n",
      "110.11111\n"
     ]
    }
   ],
   "source": [
    "# Python3 program to convert fractional\n",
    "# decimal to binary number\n",
    "\n",
    "# Function to convert decimal to binary\n",
    "# upto k-precision after decimal point\n",
    "def decimalToBinary(num, k_prec) :\n",
    "\n",
    "\tbinary = \"\"\n",
    "\n",
    "\t# Fetch the integral part of\n",
    "\t# decimal number\n",
    "\tIntegral = int(num)\n",
    "\n",
    "\t# Fetch the fractional part\n",
    "\t# decimal number\n",
    "\tfractional = num - Integral\n",
    "\n",
    "\t# Conversion of integral part to\n",
    "\t# binary equivalent\n",
    "\twhile (Integral) :\n",
    "\t\t\n",
    "\t\trem = Integral % 2\n",
    "\n",
    "\t\t# Append 0 in binary\n",
    "\t\tbinary += str(rem);\n",
    "\n",
    "\t\tIntegral //= 2\n",
    "\t\n",
    "\t# Reverse string to get original\n",
    "\t# binary equivalent\n",
    "\tbinary = binary[ : : -1]\n",
    "\n",
    "\t# Append point before conversion\n",
    "\t# of fractional part\n",
    "\tbinary += '.'\n",
    "\n",
    "\t# Conversion of fractional part\n",
    "\t# to binary equivalent\n",
    "\twhile (k_prec) :\n",
    "\t\t\n",
    "\t\t# Find next bit in fraction\n",
    "\t\tfractional *= 2\n",
    "\t\tfract_bit = int(fractional)\n",
    "\n",
    "\t\tif (fract_bit == 1) :\n",
    "\t\t\t\n",
    "\t\t\tfractional -= fract_bit\n",
    "\t\t\tbinary += '1'\n",
    "\t\t\t\n",
    "\t\telse :\n",
    "\t\t\tbinary += '0'\n",
    "\n",
    "\t\tk_prec -= 1\n",
    "\n",
    "\treturn binary\n",
    "\n",
    "# Driver code\n",
    "if __name__ == \"__main__\" :\n",
    "\t\n",
    "\tn = 4.47\n",
    "\tk = 3\n",
    "\tprint(decimalToBinary(n, k))\n",
    "\n",
    "\tn = 6.986\n",
    "\tk = 5\n",
    "\tprint(decimalToBinary(n, k))\n",
    "\n",
    "# This code is contributed by Ryuga\n"
   ]
  },
  {
   "cell_type": "code",
   "execution_count": 2,
   "metadata": {},
   "outputs": [
    {
     "name": "stdout",
     "output_type": "stream",
     "text": [
      "3306 barrett_q: 113 barret_residue: 29 ans_q: 114 ans_residue: 0\n"
     ]
    }
   ],
   "source": [
    "DR=123456\n",
    "A=29\n",
    "for i in range(DR):\n",
    "    barrett_q=(i*35)>>10\n",
    "    barret_residue=i-barrett_q*A\n",
    "    if(barret_residue>=A):\n",
    "        barret_residue=barret_residue-A\n",
    "        barrett_q=barrett_q+1\n",
    "    ans_q=int(i/A)\n",
    "    ans_residue=i %A\n",
    "    if((barrett_q==ans_q)&(barret_residue==ans_residue)):\n",
    "        pass\n",
    "    else:\n",
    "        print(i,\"barrett_q:\",barrett_q,\"barret_residue:\",barret_residue,\\\n",
    "        \"ans_q:\",ans_q,\"ans_residue:\",ans_residue)\n",
    "        break\n"
   ]
  },
  {
   "cell_type": "code",
   "execution_count": 1,
   "metadata": {},
   "outputs": [
    {
     "name": "stdout",
     "output_type": "stream",
     "text": [
      "1339 barrett_q: 102 barret_residue: 13 ans_q: 103 ans_residue: 0\n"
     ]
    }
   ],
   "source": [
    "#only right shift and addition\n",
    "#take 13 for example \n",
    "# for right shift 10bit, max i =1339\n",
    "DR=123456\n",
    "A=13\n",
    "for i in range(DR):\n",
    "    barrett_q=((i<<1)+(i<<2)+(i<<3)+(i<<6))>>10 #78\n",
    "    barret_residue=i-barrett_q*A\n",
    "    if(barret_residue>=A):\n",
    "        barret_residue=barret_residue-A\n",
    "        barrett_q=barrett_q+1\n",
    "        \n",
    "    ans_q=int(i/A)\n",
    "    ans_residue=i %A\n",
    "    if((barrett_q==ans_q)&(barret_residue==ans_residue)):\n",
    "        pass\n",
    "    else:\n",
    "        print(i,\"barrett_q:\",barrett_q,\"barret_residue:\",barret_residue,\\\n",
    "        \"ans_q:\",ans_q,\"ans_residue:\",ans_residue)\n",
    "        break\n"
   ]
  },
  {
   "cell_type": "code",
   "execution_count": null,
   "metadata": {},
   "outputs": [],
   "source": [
    "#only right shift and addition\n",
    "#take 29 for example \n",
    "#the range can be corrected by the double loop of 29 is 14 bit\n",
    "#the DR of 29sys is 16384, and the max msg for 29sys is 564\n",
    "#It takes 12bit to fully cover the whole dynamic range, 16384\n",
    " \n",
    "DR=16384\n",
    "A=29\n",
    "bitnum=12\n",
    "denominator=2**bitnum\n",
    "mul=int(denominator/A)\n",
    "for i in range(DR):\n",
    "    barrett_q=int((i*mul)/denominator)\n",
    "    #barrett_q=((i<<0)+(i<<2)+(i<<3)+(i<<7))>>bitnum #141\n",
    "    barret_residue=i-barrett_q*A\n",
    "    if(barret_residue>=A):\n",
    "        barret_residue=barret_residue-A\n",
    "        barrett_q=barrett_q+1\n",
    "    ans_q=int(i/A)\n",
    "    ans_residue=i %A\n",
    "\n",
    "    if((barrett_q==ans_q)&(barret_residue==ans_residue)):\n",
    "        pass\n",
    "    else:\n",
    "        print(i,\"barrett_q:\",barrett_q,\"barret_residue:\",barret_residue,\\\n",
    "        \"ans_q:\",ans_q,\"ans_residue:\",ans_residue)\n",
    "        break\n"
   ]
  },
  {
   "cell_type": "code",
   "execution_count": null,
   "metadata": {},
   "outputs": [],
   "source": [
    "#possible_A=[19,23,37,47,53,59,61,67,71,79,83]\n",
    "possi_A={\"13\":6,\"23\":11,\"29\":14,\"37\":18,\"47\":23}\n",
    "# find appropriate range for application\n",
    "import numpy as np\n",
    "\n",
    "DR=2**20\n",
    "#right_shift=1+int(np.log(DR))\n",
    "right_shift=10\n",
    "for key,val in possi_A.items():\n",
    "    #right_shift=int((val-1)/2)\n",
    "    A=int(key)\n",
    "    w=int((2**right_shift)/A)\n",
    "    for i in range(DR):\n",
    "        barrett_q=(i*w)>>right_shift\n",
    "        barret_residue=i-barrett_q*A\n",
    "\n",
    "        if(barret_residue>=A):\n",
    "            barret_residue=barret_residue-A\n",
    "            barrett_q=barrett_q+1\n",
    "        #check if the outcome if barrett is right\n",
    "        ans_q=int(i/A)\n",
    "        ans_residue=i %A\n",
    "        if((barrett_q==ans_q)&(barret_residue==ans_residue)):\n",
    "            pass\n",
    "        else:\n",
    "            print(A,i,\"barrett_q:\",barrett_q,\"barret_residue:\",barret_residue,\\\n",
    "            \"ans_q:\",ans_q,\"ans_residue:\",ans_residue)\n",
    "            break\n",
    "\n",
    "\n",
    "\n",
    "        "
   ]
  },
  {
   "cell_type": "code",
   "execution_count": null,
   "metadata": {},
   "outputs": [],
   "source": [
    "#only right shift and addition\n",
    "#take 37 for example \n",
    "#the range can be corrected by the double loop of 37 is 18 bit\n",
    "#the DR of 37sys is 2**18, and the max msg for 37sys is 7084  =(2**18)/37\n",
    "#It takes 16bit to fully cover the whole dynamic range, 262144=2**18\n",
    " \n",
    "DR=2**18\n",
    "A=37\n",
    "bitnum=16\n",
    "denominator=2**bitnum\n",
    "mul=int(denominator/A)\n",
    "for i in range(DR):\n",
    "    #barrett_q=int((i*mul)/denominator)\n",
    "    barrett_q=((i<<0)+(i<<1)+(i<<3)+(i<<5)+(i<<6)+(i<<7)+(i<<9)+(i<<10))>>bitnum #1771\n",
    "    barret_residue=i-barrett_q*A\n",
    "    if(barret_residue>=A):\n",
    "        barret_residue=barret_residue-A\n",
    "        barrett_q=barrett_q+1\n",
    "    ans_q=int(i/A)\n",
    "    ans_residue=i %A\n",
    "\n",
    "    if((barrett_q==ans_q)&(barret_residue==ans_residue)):\n",
    "        pass\n",
    "    else:\n",
    "        print(i,\"barrett_q:\",barrett_q,\"barret_residue:\",barret_residue,\\\n",
    "        \"ans_q:\",ans_q,\"ans_residue:\",ans_residue)\n",
    "        break\n"
   ]
  },
  {
   "cell_type": "code",
   "execution_count": 2,
   "metadata": {},
   "outputs": [
    {
     "name": "stdout",
     "output_type": "stream",
     "text": [
      "12\n",
      "13\n",
      "14\n",
      "15\n",
      "16\n",
      "17\n",
      "18\n",
      "19\n",
      "20\n",
      "21\n",
      "22\n",
      "23\n",
      "24\n",
      "25\n",
      "26\n",
      "27\n",
      "28\n",
      "29\n",
      "30\n",
      "31\n"
     ]
    }
   ],
   "source": [
    " \n",
    "DR=16384 #2**14\n",
    "A=29\n",
    "#bitnum=12\n",
    "\n",
    "for bitnum in range(1,32):\n",
    "    denominator=2**bitnum\n",
    "    mul=int(denominator/A)\n",
    "    for i in range(DR):       \n",
    "        barrett_q=int((i*mul)/denominator)\n",
    "        #barrett_q=((i<<0)+(i<<2)+(i<<3)+(i<<7))>>bitnum #141\n",
    "        barret_residue=i-barrett_q*A\n",
    "        if(barret_residue>=A):\n",
    "            barret_residue=barret_residue-A\n",
    "            barrett_q=barrett_q+1\n",
    "        ans_q=int(i/A)\n",
    "        ans_residue=i %A\n",
    "\n",
    "        if((barrett_q==ans_q)&(barret_residue==ans_residue)):\n",
    "            if(i==DR-1):\n",
    "                print(bitnum)\n",
    "                break\n",
    "            else:\n",
    "                pass\n",
    "        else:\n",
    "            continue\n",
    "                  "
   ]
  }
 ],
 "metadata": {
  "kernelspec": {
   "display_name": "Python 3.8.8 ('base')",
   "language": "python",
   "name": "python3"
  },
  "language_info": {
   "codemirror_mode": {
    "name": "ipython",
    "version": 3
   },
   "file_extension": ".py",
   "mimetype": "text/x-python",
   "name": "python",
   "nbconvert_exporter": "python",
   "pygments_lexer": "ipython3",
   "version": "3.8.8"
  },
  "orig_nbformat": 4,
  "vscode": {
   "interpreter": {
    "hash": "7ba7a796101d0304805c00b5533f699bed3d3e5c8dc49e94548394e332d36bb4"
   }
  }
 },
 "nbformat": 4,
 "nbformat_minor": 2
}
