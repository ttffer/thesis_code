{
 "cells": [
  {
   "attachments": {},
   "cell_type": "markdown",
   "metadata": {},
   "source": [
    "### How to Prevent approximate error in Barrett Reduction\n"
   ]
  },
  {
   "cell_type": "code",
   "execution_count": 1,
   "metadata": {},
   "outputs": [
    {
     "name": "stdout",
     "output_type": "stream",
     "text": [
      "2.142857142857143\n",
      "1\n"
     ]
    }
   ],
   "source": [
    "def div7(x):\n",
    "    return x/7\n",
    "\n",
    "print(div7(15))\n",
    "\n",
    "def redu7(x):\n",
    "    q=x//7\n",
    "    return x-q*7\n",
    "print(redu7(15))"
   ]
  },
  {
   "cell_type": "markdown",
   "metadata": {},
   "source": [
    "設 為了要定位<br />\n",
    "找A=29\n",
    "求1/A<br /><br />\n",
    "答:\n",
    "為將1/A化簡  <br />\n",
    "$\\frac{2^{10}}{A}$ = 35.31348 <br />\n",
    "\n",
    "$\\frac{1}{A}$= $\\frac{35.31348}{2^{10}} $ $\\Rightarrow$\n",
    "$\\frac{X}{A}$ =  $X\\times\\frac{35.31348}{2^{10}}$ <br />\n",
    " <br />\n"
   ]
  },
  {
   "cell_type": "markdown",
   "metadata": {},
   "source": [
    "$ m = \\lfloor \\frac{2^{k}}{A}  \\rfloor$ "
   ]
  },
  {
   "cell_type": "code",
   "execution_count": null,
   "metadata": {},
   "outputs": [],
   "source": [
    "2"
   ]
  },
  {
   "cell_type": "code",
   "execution_count": 2,
   "metadata": {},
   "outputs": [
    {
     "data": {
      "text/plain": [
       "35"
      ]
     },
     "execution_count": 2,
     "metadata": {},
     "output_type": "execute_result"
    }
   ],
   "source": [
    "int((2**10)/29)"
   ]
  },
  {
   "cell_type": "markdown",
   "metadata": {},
   "source": [
    "Since $\\frac{1}{A} = \\frac{m}{2^{10}} $ is only an approximation, the valid range of a need to be considered. <br> The error of the approxiamtion of $\\frac{1}{A}$ is <br>\n",
    "$ e = \\frac{1}{n} - \\frac{m}{2^k}$<br>\n",
    "As long as $number \\times e < 1$ then the redduction is valid, thus $number < \\frac{1}{e} $ <br>\n",
    "Therefore,in order to do Barrett without checking reduction, we want $ e $ to be as samll as possoble <br>\n",
    "By choosing larger values of $ k $, the range of $ a $ for which the reduction is valid can be increased. "
   ]
  },
  {
   "cell_type": "code",
   "execution_count": 4,
   "metadata": {},
   "outputs": [
    {
     "name": "stdout",
     "output_type": "stream",
     "text": [
      "now:  10 error:  0.00030307112068965469386938593743252567946910858154296875 m:  35 error input 3299.555555555560765500513860\n",
      "now:  11 error:  0.00030307112068965469386938593743252567946910858154296875 m:  70 error input 3299.555555555560765500513860\n",
      "now:  12 error:  0.00005893049568965469386938593743252567946910858154296875 m:  141 error input 16969.14285714299494058501964\n",
      "now:  13 error:  0.00005893049568965469386938593743252567946910858154296875 m:  282 error input 16969.14285714299494058501964\n",
      "now:  14 error:  0.00005893049568965469386938593743252567946910858154296875 m:  564 error input 16969.14285714299494058501964\n",
      "now:  15 error:  0.00002841291756465469386938593743252567946910858154296875 m:  1129 error input 35195.25925925985203521895966\n",
      "now:  16 error:  0.00001315412850215469386938593743252567946910858154296875 m:  2259 error input 76021.76000000276565551757823\n",
      "now:  17 error:  0.00000552473397090469386938593743252567946910858154296875 m:  4519 error input 181004.1904762061545097368388\n",
      "now:  18 error:  0.00000171003670527969386938593743252567946910858154296875 m:  9039 error input 584782.7692309328790247088106\n",
      "now:  19 error:  0.00000171003670527969386938593743252567946910858154296875 m:  18078 error input 584782.7692309328790247088106\n",
      "now:  20 error:  7.5636238887344386938593743252567946910858154296875E-7 m:  36157 error input 1322117.565218227797510043062\n",
      "now:  21 error:  2.7952523067031886938593743252567946910858154296875E-7 m:  72315 error input 3577494.588241418752703297683\n",
      "now:  22 error:  4.110665156875636938593743252567946910858154296875E-8 m:  144631 error input 24326963.20028320312500329692\n",
      "now:  23 error:  4.110665156875636938593743252567946910858154296875E-8 m:  289262 error input 24326963.20028320312500329692\n",
      "now:  24 error:  4.110665156875636938593743252567946910858154296875E-8 m:  578524 error input 24326963.20028320312500329692\n",
      "now:  25 error:  1.130432918106105688593743252567946910858154296875E-8 m:  1157049 error input 88461684.36738119834726596752\n",
      "now:  26 error:  1.130432918106105688593743252567946910858154296875E-8 m:  2314098 error input 88461684.36738119834726596752\n",
      "now:  27 error:  3.85374858413722876093743252567946910858154296875E-9 m:  4628197 error input 259487607.4988888888928901266\n",
      "now:  28 error:  1.2845828567531469843743252567946910858154296875E-10 m:  9256395 error input 7784628253.000000108033419058\n",
      "now:  29 error:  1.2845828567531469843743252567946910858154296875E-10 m:  18512790 error input 7784628253.000000108033419058\n",
      "1.2845828567531469843743252567946910858154296875E-10 28\n"
     ]
    }
   ],
   "source": [
    "#find minimum e in range\n",
    "from decimal import Decimal\n",
    "A=29\n",
    "min=10\n",
    "num_k=0\n",
    "for k in range(10,30):\n",
    "    m=int((2**k)/A)\n",
    "    e=Decimal((1/A)-(m/(2**k)))\n",
    "    if(e<min):\n",
    "        min=e\n",
    "        num_k=k\n",
    "    print(\"now: \",k,\"error: \",e,\"m: \",m,\"error input\", 1/e)\n",
    "    \n",
    "print(min,num_k)"
   ]
  },
  {
   "cell_type": "code",
   "execution_count": 5,
   "metadata": {},
   "outputs": [
    {
     "data": {
      "text/plain": [
       "25"
      ]
     },
     "execution_count": 5,
     "metadata": {},
     "output_type": "execute_result"
    }
   ],
   "source": [
    "len(bin(18512790))-2"
   ]
  },
  {
   "cell_type": "code",
   "execution_count": 21,
   "metadata": {},
   "outputs": [
    {
     "name": "stdout",
     "output_type": "stream",
     "text": [
      "18957097030\n",
      "min 1.1290274271047451e-12 shift bit 38 can tolerant range 885718075569.1467 len 40 bit\n"
     ]
    }
   ],
   "source": [
    "#find minimum e in range\n",
    "from decimal import Decimal\n",
    "A=29\n",
    "min=10\n",
    "num_k=10\n",
    "shift_bit=40\n",
    "for k in range(10,shift_bit):\n",
    "    m=int((2**k)/A)\n",
    "    e=((1/A)-(m/(2**k)))\n",
    "    if(e<min):\n",
    "        min=e\n",
    "        num_k=k\n",
    "    #print(\"now: \",k,\"error: \",e,\"m: \",m)\n",
    "\n",
    "print(m)\n",
    "print(\"min\",min,\"shift bit\",num_k,\"can tolerant range\",1/e,\"len\",len(bin(int(1/e)))-2,\"bit\")"
   ]
  },
  {
   "cell_type": "code",
   "execution_count": null,
   "metadata": {},
   "outputs": [],
   "source": []
  }
 ],
 "metadata": {
  "kernelspec": {
   "display_name": "base",
   "language": "python",
   "name": "python3"
  },
  "language_info": {
   "codemirror_mode": {
    "name": "ipython",
    "version": 3
   },
   "file_extension": ".py",
   "mimetype": "text/x-python",
   "name": "python",
   "nbconvert_exporter": "python",
   "pygments_lexer": "ipython3",
   "version": "3.8.8"
  },
  "orig_nbformat": 4,
  "vscode": {
   "interpreter": {
    "hash": "7ba7a796101d0304805c00b5533f699bed3d3e5c8dc49e94548394e332d36bb4"
   }
  }
 },
 "nbformat": 4,
 "nbformat_minor": 2
}
